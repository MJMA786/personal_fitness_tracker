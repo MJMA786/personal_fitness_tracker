{
 "cells": [
  {
   "cell_type": "code",
   "execution_count": 1,
   "id": "591dd048-aa7c-4e1e-bf67-c18a90851108",
   "metadata": {},
   "outputs": [
    {
     "name": "stdout",
     "output_type": "stream",
     "text": [
      "Model training complete. Saved as 'random_forest_calories.pkl'\n"
     ]
    }
   ],
   "source": [
    "import pandas as pd\n",
    "import joblib\n",
    "from sklearn.model_selection import train_test_split\n",
    "from sklearn.ensemble import RandomForestRegressor\n",
    "\n",
    "# Load datasets\n",
    "calories = pd.read_csv(\"calories.csv\")\n",
    "exercise = pd.read_csv(\"exercise.csv\")\n",
    "\n",
    "# Merge datasets on User_ID\n",
    "df = exercise.merge(calories, on=\"User_ID\")\n",
    "\n",
    "# Drop User_ID as it's not needed\n",
    "df.drop(columns=[\"User_ID\"], inplace=True)\n",
    "\n",
    "# Compute BMI\n",
    "df[\"BMI\"] = df[\"Weight\"] / ((df[\"Height\"] / 100) ** 2)\n",
    "df[\"BMI\"] = round(df[\"BMI\"], 2)\n",
    "\n",
    "# Select features and target\n",
    "df = df[[\"Gender\", \"Age\", \"BMI\", \"Duration\", \"Heart_Rate\", \"Body_Temp\", \"Calories\"]]\n",
    "\n",
    "# One-hot encoding for categorical variables\n",
    "df = pd.get_dummies(df, drop_first=True)\n",
    "\n",
    "# Split dataset into training and test sets\n",
    "X = df.drop(\"Calories\", axis=1)\n",
    "y = df[\"Calories\"]\n",
    "\n",
    "X_train, X_test, y_train, y_test = train_test_split(X, y, test_size=0.2, random_state=1)\n",
    "\n",
    "# Train Random Forest model\n",
    "model = RandomForestRegressor(n_estimators=1000, max_features=3, max_depth=6, random_state=1)\n",
    "model.fit(X_train, y_train)\n",
    "\n",
    "# Save the trained model\n",
    "joblib.dump(model, \"random_forest_calories.pkl\")\n",
    "\n",
    "print(\"Model training complete. Saved as 'random_forest_calories.pkl'\")\n"
   ]
  },
  {
   "cell_type": "code",
   "execution_count": null,
   "id": "6ea21d76-9e74-482d-a9d9-b5deb9a2fc7c",
   "metadata": {},
   "outputs": [],
   "source": []
  }
 ],
 "metadata": {
  "kernelspec": {
   "display_name": "Python 3 (ipykernel)",
   "language": "python",
   "name": "python3"
  },
  "language_info": {
   "codemirror_mode": {
    "name": "ipython",
    "version": 3
   },
   "file_extension": ".py",
   "mimetype": "text/x-python",
   "name": "python",
   "nbconvert_exporter": "python",
   "pygments_lexer": "ipython3",
   "version": "3.13.2"
  }
 },
 "nbformat": 4,
 "nbformat_minor": 5
}
